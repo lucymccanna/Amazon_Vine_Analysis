{
  "nbformat": 4,
  "nbformat_minor": 0,
  "metadata": {
    "colab": {
      "name": "Vine_Review_Analysis.ipynb",
      "provenance": [],
      "collapsed_sections": [],
      "authorship_tag": "ABX9TyO2Gpx8e5+hBOSrjw8yKTaQ",
      "include_colab_link": true
    },
    "kernelspec": {
      "name": "python3",
      "display_name": "Python 3"
    },
    "language_info": {
      "name": "python"
    }
  },
  "cells": [
    {
      "cell_type": "markdown",
      "metadata": {
        "id": "view-in-github",
        "colab_type": "text"
      },
      "source": [
        "<a href=\"https://colab.research.google.com/github/lucymccanna/Amazon_Vine_Analysis/blob/main/Vine_Review_Analysis.ipynb\" target=\"_parent\"><img src=\"https://colab.research.google.com/assets/colab-badge.svg\" alt=\"Open In Colab\"/></a>"
      ]
    },
    {
      "cell_type": "code",
      "execution_count": 1,
      "metadata": {
        "colab": {
          "base_uri": "https://localhost:8080/"
        },
        "id": "zbCVSTL0LhJG",
        "outputId": "70606739-88bb-4a4f-9a05-46a59e1ca8e0"
      },
      "outputs": [
        {
          "output_type": "stream",
          "name": "stdout",
          "text": [
            "\r0% [Working]\r            \rGet:1 https://developer.download.nvidia.com/compute/cuda/repos/ubuntu1804/x86_64  InRelease [1,581 B]\n",
            "Get:2 https://cloud.r-project.org/bin/linux/ubuntu bionic-cran40/ InRelease [3,626 B]\n",
            "Hit:3 http://archive.ubuntu.com/ubuntu bionic InRelease\n",
            "Ign:4 https://developer.download.nvidia.com/compute/machine-learning/repos/ubuntu1804/x86_64  InRelease\n",
            "Get:5 http://ppa.launchpad.net/c2d4u.team/c2d4u4.0+/ubuntu bionic InRelease [15.9 kB]\n",
            "Get:6 https://developer.download.nvidia.com/compute/cuda/repos/ubuntu1804/x86_64  Packages [813 kB]\n",
            "Get:7 http://archive.ubuntu.com/ubuntu bionic-updates InRelease [88.7 kB]\n",
            "Hit:8 https://developer.download.nvidia.com/compute/machine-learning/repos/ubuntu1804/x86_64  Release\n",
            "Get:9 http://security.ubuntu.com/ubuntu bionic-security InRelease [88.7 kB]\n",
            "Hit:10 http://ppa.launchpad.net/cran/libgit2/ubuntu bionic InRelease\n",
            "Get:12 http://archive.ubuntu.com/ubuntu bionic-backports InRelease [74.6 kB]\n",
            "Get:13 http://ppa.launchpad.net/deadsnakes/ppa/ubuntu bionic InRelease [15.9 kB]\n",
            "Get:14 http://archive.ubuntu.com/ubuntu bionic-updates/restricted amd64 Packages [1,015 kB]\n",
            "Get:15 http://ppa.launchpad.net/graphics-drivers/ppa/ubuntu bionic InRelease [21.3 kB]\n",
            "Get:16 http://security.ubuntu.com/ubuntu bionic-security/universe amd64 Packages [1,517 kB]\n",
            "Get:17 http://archive.ubuntu.com/ubuntu bionic-updates/main amd64 Packages [3,262 kB]\n",
            "Get:18 http://ppa.launchpad.net/c2d4u.team/c2d4u4.0+/ubuntu bionic/main Sources [2,022 kB]\n",
            "Get:19 http://archive.ubuntu.com/ubuntu bionic-updates/universe amd64 Packages [2,293 kB]\n",
            "Get:20 http://security.ubuntu.com/ubuntu bionic-security/main amd64 Packages [2,830 kB]\n",
            "Get:21 http://security.ubuntu.com/ubuntu bionic-security/restricted amd64 Packages [982 kB]\n",
            "Get:22 http://ppa.launchpad.net/c2d4u.team/c2d4u4.0+/ubuntu bionic/main amd64 Packages [1,036 kB]\n",
            "Get:23 http://ppa.launchpad.net/deadsnakes/ppa/ubuntu bionic/main amd64 Packages [45.3 kB]\n",
            "Get:24 http://ppa.launchpad.net/graphics-drivers/ppa/ubuntu bionic/main amd64 Packages [47.7 kB]\n",
            "Fetched 16.2 MB in 8s (2,000 kB/s)\n",
            "Reading package lists... Done\n"
          ]
        }
      ],
      "source": [
        "import os\n",
        "# Find the latest version of spark 3.0 from http://www.apache.org/dist/spark/ and enter as the spark version\n",
        "# For example:\n",
        "# spark_version = 'spark-3.0.3'\n",
        "spark_version = 'spark-3.0.3'\n",
        "os.environ['SPARK_VERSION']=spark_version\n",
        "\n",
        "# Install Spark and Java\n",
        "!apt-get update\n",
        "!apt-get install openjdk-11-jdk-headless -qq > /dev/null\n",
        "!wget -q http://www.apache.org/dist/spark/$SPARK_VERSION/$SPARK_VERSION-bin-hadoop2.7.tgz\n",
        "!tar xf $SPARK_VERSION-bin-hadoop2.7.tgz\n",
        "!pip install -q findspark\n",
        "\n",
        "# Set Environment Variables\n",
        "import os\n",
        "os.environ[\"JAVA_HOME\"] = \"/usr/lib/jvm/java-11-openjdk-amd64\"\n",
        "os.environ[\"SPARK_HOME\"] = f\"/content/{spark_version}-bin-hadoop2.7\"\n",
        "\n",
        "# Start a SparkSession\n",
        "import findspark\n",
        "findspark.init()"
      ]
    },
    {
      "cell_type": "code",
      "source": [
        "from pyspark.sql import SparkSession\n",
        "spark = SparkSession.builder.appName(\"M16-Amazon-Challenge\").config(\"spark.driver.extraClassPath\",\"/content/postgresql-42.2.16.jar\").getOrCreate()"
      ],
      "metadata": {
        "id": "y3p-mlTVMkJb"
      },
      "execution_count": 2,
      "outputs": []
    },
    {
      "cell_type": "code",
      "source": [
        "# load in data\n",
        "from pyspark import SparkFiles\n",
        "url = \"https://s3.amazonaws.com/amazon-reviews-pds/tsv/amazon_reviews_us_Books_v1_02.tsv.gz\"\n",
        "spark.sparkContext.addFile(url)\n",
        "df = spark.read.option(\"encoding\", \"UTF-8\").csv(SparkFiles.get(\"amazon_reviews_us_Books_v1_02.tsv.gz\"), sep=\"\\t\", header=True, inferSchema=True)\n",
        "df.show()"
      ],
      "metadata": {
        "colab": {
          "base_uri": "https://localhost:8080/"
        },
        "id": "s0TUBbTJMn6U",
        "outputId": "adb111d5-154e-428f-e395-389bfa1d314e"
      },
      "execution_count": 3,
      "outputs": [
        {
          "output_type": "stream",
          "name": "stdout",
          "text": [
            "+-----------+-----------+--------------+----------+--------------+--------------------+----------------+-----------+-------------+-----------+----+-----------------+--------------------+--------------------+-----------+\n",
            "|marketplace|customer_id|     review_id|product_id|product_parent|       product_title|product_category|star_rating|helpful_votes|total_votes|vine|verified_purchase|     review_headline|         review_body|review_date|\n",
            "+-----------+-----------+--------------+----------+--------------+--------------------+----------------+-----------+-------------+-----------+----+-----------------+--------------------+--------------------+-----------+\n",
            "|         US|   12076615| RQ58W7SMO911M|0385730586|     122662979|Sisterhood of the...|           Books|          4|            2|          3|   N|                N|this book was a g...|this boook was a ...| 2005-10-14|\n",
            "|         US|   12703090|  RF6IUKMGL8SF|0811828964|      56191234|The Bad Girl's Gu...|           Books|          3|            5|          5|   N|                N|           Fun Fluff|If you are lookin...| 2005-10-14|\n",
            "|         US|   12257412|R1DOSHH6AI622S|1844161560|     253182049|Eisenhorn (A Warh...|           Books|          4|            1|         22|   N|                N| this isn't a review|never read it-a y...| 2005-10-14|\n",
            "|         US|   50732546| RATOTLA3OF70O|0373836635|     348672532|Colby Conspiracy ...|           Books|          5|            2|          2|   N|                N|fine author on he...|Though she is hon...| 2005-10-14|\n",
            "|         US|   51964897|R1TNWRKIVHVYOV|0262181533|     598678717|The Psychology of...|           Books|          4|            0|          2|   N|                N|Execellent cursor...|Review based on a...| 2005-10-14|\n",
            "|         US|   31048862|R2F53LI9KK9MOY|0316769487|     862964341|The Catcher in th...|           Books|          4|            2|          2|   N|                N|   Interesting, fun.|My only complaint...| 2005-10-14|\n",
            "|         US|   53000124|R1KJ6MB7MRSQFF|0805076069|     145341889|Bait and Switch: ...|           Books|          4|            9|         11|   N|                N|I viewed this the...|This book is chil...| 2005-10-14|\n",
            "|         US|   29732693|R2XIM9LT335WHE|1581603681|     640542054|Opening Combinati...|           Books|          4|            3|         10|   N|                N|No Frills - Just ...|When looking for ...| 2005-10-14|\n",
            "|         US|   48541186|R1VE0FQQ0QTQJN|0300108834|     915891133|A Little History ...|           Books|          5|           16|         20|   N|                Y|Simple, entertain...|Never been much f...| 2005-10-14|\n",
            "|         US|   15280864|R1VKEE2NWSWDRU|0446531081|     880645124|Hour Game (King &...|           Books|          4|            0|          0|   N|                N|        A good read!|If you enjoy a we...| 2005-10-14|\n",
            "|         US|   24209213|R2UP6XSVYJBJ2H|0976822105|     731931430|     Faith is a Verb|           Books|          5|            0|          0|   N|                N|Made me Question ...|I thoroughly enjo...| 2005-10-14|\n",
            "|         US|   52253037|R21SYDQ70ILUC0|1580085695|     586052746|Furry Logic: A Gu...|           Books|          5|            1|          1|   N|                Y|    The Perfect Gift|If you are stumpe...| 2005-10-14|\n",
            "|         US|   27925116| R7M06Z88PD7SX|0029148510|      72387289|Acts of War: Beha...|           Books|          4|           14|         14|   N|                N|Solid Book About ...|Whether intention...| 2005-10-14|\n",
            "|         US|   15005044| RRS38KZ4WB5O2|1592285570|     702385650|Temple to the Win...|           Books|          5|            1|          1|   N|                N|A riveting accoun...|Temple to the win...| 2005-10-14|\n",
            "|         US|   52534781|R2YDYRSLGNHPHR|0811848833|     102333549|The Star Wars Pos...|           Books|          4|           16|         19|   N|                Y|Comprehensive vis...|At last... a comp...| 2005-10-14|\n",
            "|         US|   26217071|R1BMPM18O6VZOR|0782144276|     971452783|Photoshop for Nat...|           Books|          4|           13|         14|   N|                N|          Great Book|I find \\\\\"Photosh...| 2005-10-14|\n",
            "|         US|   37684582|R1AABFZH0J0C0C|0375757996|     760991156|The Basic Works o...|           Books|          3|           17|         35|   N|                N|Problems with thi...|I love Aristotle ...| 2005-10-14|\n",
            "|         US|   45232107|R3SJYLG07EHNE9|013146308X|     332774292|The Pterosaurs: F...|           Books|          2|           16|         34|   N|                N|Warmed over lefto...|To his discredit,...| 2005-10-14|\n",
            "|         US|   15437121|R2TIO43ND87XVO|0375701907|     635714194|Straight Man: A N...|           Books|          5|            1|          1|   N|                N|       Funniest Book|Hands down, the f...| 2005-10-14|\n",
            "|         US|   52157117|R18TY4WD19OUAO|141378240X|     656010659|   Lipstick's Legacy|           Books|          5|            1|          1|   N|                N|          Great Work|I read this book ...| 2005-10-14|\n",
            "+-----------+-----------+--------------+----------+--------------+--------------------+----------------+-----------+-------------+-----------+----+-----------------+--------------------+--------------------+-----------+\n",
            "only showing top 20 rows\n",
            "\n"
          ]
        }
      ]
    },
    {
      "cell_type": "code",
      "source": [
        "# Create the vine_table. DataFrame\n",
        "vine_df = df.select([\"review_id\", \"star_rating\", \"helpful_votes\", \"total_votes\", \"vine\", \"verified_purchase\"])\n",
        "vine_df.show(5)"
      ],
      "metadata": {
        "colab": {
          "base_uri": "https://localhost:8080/"
        },
        "id": "Hmo6zjWeM5eG",
        "outputId": "05ec3a76-fd08-4e54-d5d6-331e52a42ca6"
      },
      "execution_count": 4,
      "outputs": [
        {
          "output_type": "stream",
          "name": "stdout",
          "text": [
            "+--------------+-----------+-------------+-----------+----+-----------------+\n",
            "|     review_id|star_rating|helpful_votes|total_votes|vine|verified_purchase|\n",
            "+--------------+-----------+-------------+-----------+----+-----------------+\n",
            "| RQ58W7SMO911M|          4|            2|          3|   N|                N|\n",
            "|  RF6IUKMGL8SF|          3|            5|          5|   N|                N|\n",
            "|R1DOSHH6AI622S|          4|            1|         22|   N|                N|\n",
            "| RATOTLA3OF70O|          5|            2|          2|   N|                N|\n",
            "|R1TNWRKIVHVYOV|          4|            0|          2|   N|                N|\n",
            "+--------------+-----------+-------------+-----------+----+-----------------+\n",
            "only showing top 5 rows\n",
            "\n"
          ]
        }
      ]
    },
    {
      "cell_type": "code",
      "source": [
        "# #1 Filter the data and create a new DataFrame or table to retrieve all the rows where \n",
        "# the total_votes count is equal to or greater than 20 to pick reviews that are more \n",
        "# likely to be helpful and to avoid having division by zero errors later on.\n",
        "vine_totalvotesfilter_df = vine_df.filter(\"total_votes>19\")\n",
        "vine_totalvotesfilter_df.show()"
      ],
      "metadata": {
        "colab": {
          "base_uri": "https://localhost:8080/"
        },
        "id": "qlnTdax8NkgQ",
        "outputId": "796ba3d1-f582-4d59-d188-69923b07b3dc"
      },
      "execution_count": 5,
      "outputs": [
        {
          "output_type": "stream",
          "name": "stdout",
          "text": [
            "+--------------+-----------+-------------+-----------+----+-----------------+\n",
            "|     review_id|star_rating|helpful_votes|total_votes|vine|verified_purchase|\n",
            "+--------------+-----------+-------------+-----------+----+-----------------+\n",
            "|R1DOSHH6AI622S|          4|            1|         22|   N|                N|\n",
            "|R1VE0FQQ0QTQJN|          5|           16|         20|   N|                Y|\n",
            "|R1AABFZH0J0C0C|          3|           17|         35|   N|                N|\n",
            "|R3SJYLG07EHNE9|          2|           16|         34|   N|                N|\n",
            "|R3MD5TZJGIPTDU|          5|           21|         31|   N|                N|\n",
            "|R1KPOIT5WT3NEF|          1|           13|         29|   N|                N|\n",
            "| RX6OWUF8EFZ72|          5|           27|         28|   N|                N|\n",
            "| R33IFUWCNYFSO|          2|            4|         45|   N|                N|\n",
            "| RWMT2MXG3WLDP|          5|            6|         20|   N|                N|\n",
            "|R1OPUF771LL5O5|          4|           27|         27|   N|                N|\n",
            "|R3AW5JRZYH66M5|          1|          268|        307|   N|                N|\n",
            "|R2DXLNKF0EL4CI|          4|           24|         27|   N|                Y|\n",
            "|R12EHXBC0GP2C2|          5|           23|         24|   N|                N|\n",
            "|R2JSWNTAO83X3V|          5|          145|        184|   N|                N|\n",
            "|R3THZWOBS1086J|          5|           46|         47|   N|                N|\n",
            "|R160DHJPJ4B20R|          4|           28|         30|   N|                N|\n",
            "|R27UDFNE6MY1LO|          2|           15|         24|   N|                N|\n",
            "|R34X92SSRBI0N4|          5|           26|         29|   N|                N|\n",
            "| RDBVYHGTTICMV|          1|            4|         25|   N|                N|\n",
            "| RGTKXJ8P5O7LR|          4|           16|         21|   N|                N|\n",
            "+--------------+-----------+-------------+-----------+----+-----------------+\n",
            "only showing top 20 rows\n",
            "\n"
          ]
        }
      ]
    },
    {
      "cell_type": "code",
      "source": [
        "# pyspark not recognizing 'col' - workaround: https://stackoverflow.com/questions/40163106/cannot-find-col-function-in-pyspark\n",
        "from pyspark.sql import functions as F"
      ],
      "metadata": {
        "id": "i_8n0Wg7mvNS"
      },
      "execution_count": 6,
      "outputs": []
    },
    {
      "cell_type": "code",
      "source": [
        "vine_totalvotesfilter_df.printSchema()"
      ],
      "metadata": {
        "colab": {
          "base_uri": "https://localhost:8080/"
        },
        "id": "1ww2Sq-anmCU",
        "outputId": "5a5fa920-374c-4924-826e-de733c1fc9bf"
      },
      "execution_count": 7,
      "outputs": [
        {
          "output_type": "stream",
          "name": "stdout",
          "text": [
            "root\n",
            " |-- review_id: string (nullable = true)\n",
            " |-- star_rating: integer (nullable = true)\n",
            " |-- helpful_votes: integer (nullable = true)\n",
            " |-- total_votes: integer (nullable = true)\n",
            " |-- vine: string (nullable = true)\n",
            " |-- verified_purchase: string (nullable = true)\n",
            "\n"
          ]
        }
      ]
    },
    {
      "cell_type": "code",
      "source": [
        "#2 Filter the new DataFrame or table created in Step 1 and create a new DataFrame or \n",
        "# table to retrieve all the rows where the number of helpful_votes divided by \n",
        "# total_votes is equal to or greater than 50%.\n",
        "\n",
        "#add column\n",
        "vine_percentadded_df = vine_totalvotesfilter_df.withColumn(\"percent help/tot\", F.col('helpful_votes')/F.col('total_votes')* 100)\n",
        "vine_percentadded_df.show()\n",
        "\n"
      ],
      "metadata": {
        "colab": {
          "base_uri": "https://localhost:8080/"
        },
        "id": "0cc94Z0iOg_N",
        "outputId": "127ade73-0579-475e-e989-46093932962e"
      },
      "execution_count": 8,
      "outputs": [
        {
          "output_type": "stream",
          "name": "stdout",
          "text": [
            "+--------------+-----------+-------------+-----------+----+-----------------+------------------+\n",
            "|     review_id|star_rating|helpful_votes|total_votes|vine|verified_purchase|  percent help/tot|\n",
            "+--------------+-----------+-------------+-----------+----+-----------------+------------------+\n",
            "|R1DOSHH6AI622S|          4|            1|         22|   N|                N| 4.545454545454546|\n",
            "|R1VE0FQQ0QTQJN|          5|           16|         20|   N|                Y|              80.0|\n",
            "|R1AABFZH0J0C0C|          3|           17|         35|   N|                N| 48.57142857142857|\n",
            "|R3SJYLG07EHNE9|          2|           16|         34|   N|                N| 47.05882352941176|\n",
            "|R3MD5TZJGIPTDU|          5|           21|         31|   N|                N| 67.74193548387096|\n",
            "|R1KPOIT5WT3NEF|          1|           13|         29|   N|                N|44.827586206896555|\n",
            "| RX6OWUF8EFZ72|          5|           27|         28|   N|                N| 96.42857142857143|\n",
            "| R33IFUWCNYFSO|          2|            4|         45|   N|                N|  8.88888888888889|\n",
            "| RWMT2MXG3WLDP|          5|            6|         20|   N|                N|              30.0|\n",
            "|R1OPUF771LL5O5|          4|           27|         27|   N|                N|             100.0|\n",
            "|R3AW5JRZYH66M5|          1|          268|        307|   N|                N| 87.29641693811075|\n",
            "|R2DXLNKF0EL4CI|          4|           24|         27|   N|                Y| 88.88888888888889|\n",
            "|R12EHXBC0GP2C2|          5|           23|         24|   N|                N| 95.83333333333334|\n",
            "|R2JSWNTAO83X3V|          5|          145|        184|   N|                N| 78.80434782608695|\n",
            "|R3THZWOBS1086J|          5|           46|         47|   N|                N| 97.87234042553192|\n",
            "|R160DHJPJ4B20R|          4|           28|         30|   N|                N| 93.33333333333333|\n",
            "|R27UDFNE6MY1LO|          2|           15|         24|   N|                N|              62.5|\n",
            "|R34X92SSRBI0N4|          5|           26|         29|   N|                N| 89.65517241379311|\n",
            "| RDBVYHGTTICMV|          1|            4|         25|   N|                N|              16.0|\n",
            "| RGTKXJ8P5O7LR|          4|           16|         21|   N|                N| 76.19047619047619|\n",
            "+--------------+-----------+-------------+-----------+----+-----------------+------------------+\n",
            "only showing top 20 rows\n",
            "\n"
          ]
        }
      ]
    },
    {
      "cell_type": "code",
      "source": [
        "# filter for greater than or equal to 50% \n",
        "# filter for equal greater than 50% \n",
        "vine_percentfilteradded_df = vine_percentadded_df.filter(F.col(\"percent help/tot\") >= 50)\n",
        "vine_percentfilteradded_df.show()"
      ],
      "metadata": {
        "colab": {
          "base_uri": "https://localhost:8080/"
        },
        "id": "JvQa5f58QfY-",
        "outputId": "64b95b19-4afa-40cc-d1db-fd39a42cbaed"
      },
      "execution_count": 9,
      "outputs": [
        {
          "output_type": "stream",
          "name": "stdout",
          "text": [
            "+--------------+-----------+-------------+-----------+----+-----------------+-----------------+\n",
            "|     review_id|star_rating|helpful_votes|total_votes|vine|verified_purchase| percent help/tot|\n",
            "+--------------+-----------+-------------+-----------+----+-----------------+-----------------+\n",
            "|R1VE0FQQ0QTQJN|          5|           16|         20|   N|                Y|             80.0|\n",
            "|R3MD5TZJGIPTDU|          5|           21|         31|   N|                N|67.74193548387096|\n",
            "| RX6OWUF8EFZ72|          5|           27|         28|   N|                N|96.42857142857143|\n",
            "|R1OPUF771LL5O5|          4|           27|         27|   N|                N|            100.0|\n",
            "|R3AW5JRZYH66M5|          1|          268|        307|   N|                N|87.29641693811075|\n",
            "|R2DXLNKF0EL4CI|          4|           24|         27|   N|                Y|88.88888888888889|\n",
            "|R12EHXBC0GP2C2|          5|           23|         24|   N|                N|95.83333333333334|\n",
            "|R2JSWNTAO83X3V|          5|          145|        184|   N|                N|78.80434782608695|\n",
            "|R3THZWOBS1086J|          5|           46|         47|   N|                N|97.87234042553192|\n",
            "|R160DHJPJ4B20R|          4|           28|         30|   N|                N|93.33333333333333|\n",
            "|R27UDFNE6MY1LO|          2|           15|         24|   N|                N|             62.5|\n",
            "|R34X92SSRBI0N4|          5|           26|         29|   N|                N|89.65517241379311|\n",
            "| RGTKXJ8P5O7LR|          4|           16|         21|   N|                N|76.19047619047619|\n",
            "|R1TK5Q90GGJSTN|          4|           59|         68|   N|                N|86.76470588235294|\n",
            "|R3E8UZOCG84HNO|          5|           18|         24|   N|                N|             75.0|\n",
            "|R33O2810BC4UR0|          5|          101|        103|   N|                Y|98.05825242718447|\n",
            "|R1M60NYB4UPRJ8|          5|           19|         24|   N|                N|79.16666666666666|\n",
            "|R38RXR8USISV94|          4|         1150|       1228|   N|                N|93.64820846905538|\n",
            "|R2E2KP6K6OUBEX|          5|           59|         60|   N|                N|98.33333333333333|\n",
            "|R3F583X11I1RP6|          1|           40|         43|   N|                N|93.02325581395348|\n",
            "+--------------+-----------+-------------+-----------+----+-----------------+-----------------+\n",
            "only showing top 20 rows\n",
            "\n"
          ]
        }
      ]
    },
    {
      "cell_type": "code",
      "source": [
        "# 3 Create a new DataFrame or table that retrieves all the rows where a review was written as part of the \n",
        "# Vine program (paid), vine == 'Y'\n",
        "\n",
        "vine_paidreviews_df = vine_percentfilteradded_df.filter(F.col(\"vine\")=='Y')\n",
        "vine_paidreviews_df.show()\n"
      ],
      "metadata": {
        "colab": {
          "base_uri": "https://localhost:8080/"
        },
        "id": "KzYjsoaxqb1_",
        "outputId": "f7b728a2-300f-40a1-c3b1-b0f2a9cf1539"
      },
      "execution_count": 10,
      "outputs": [
        {
          "output_type": "stream",
          "name": "stdout",
          "text": [
            "+---------+-----------+-------------+-----------+----+-----------------+----------------+\n",
            "|review_id|star_rating|helpful_votes|total_votes|vine|verified_purchase|percent help/tot|\n",
            "+---------+-----------+-------------+-----------+----+-----------------+----------------+\n",
            "+---------+-----------+-------------+-----------+----+-----------------+----------------+\n",
            "\n"
          ]
        }
      ]
    },
    {
      "cell_type": "code",
      "source": [
        "# 4 retrieve all the rows where the review was not part of the Vine program (unpaid), vine == 'N'.\n",
        "vine_unpaidreviews_df = vine_percentfilteradded_df.filter(F.col(\"vine\")=='N')\n",
        "vine_unpaidreviews_df.show()"
      ],
      "metadata": {
        "colab": {
          "base_uri": "https://localhost:8080/"
        },
        "id": "RKO-GmlAr_JH",
        "outputId": "bcc77890-0a34-454f-c316-1947c6d6a85f"
      },
      "execution_count": 11,
      "outputs": [
        {
          "output_type": "stream",
          "name": "stdout",
          "text": [
            "+--------------+-----------+-------------+-----------+----+-----------------+-----------------+\n",
            "|     review_id|star_rating|helpful_votes|total_votes|vine|verified_purchase| percent help/tot|\n",
            "+--------------+-----------+-------------+-----------+----+-----------------+-----------------+\n",
            "|R1VE0FQQ0QTQJN|          5|           16|         20|   N|                Y|             80.0|\n",
            "|R3MD5TZJGIPTDU|          5|           21|         31|   N|                N|67.74193548387096|\n",
            "| RX6OWUF8EFZ72|          5|           27|         28|   N|                N|96.42857142857143|\n",
            "|R1OPUF771LL5O5|          4|           27|         27|   N|                N|            100.0|\n",
            "|R3AW5JRZYH66M5|          1|          268|        307|   N|                N|87.29641693811075|\n",
            "|R2DXLNKF0EL4CI|          4|           24|         27|   N|                Y|88.88888888888889|\n",
            "|R12EHXBC0GP2C2|          5|           23|         24|   N|                N|95.83333333333334|\n",
            "|R2JSWNTAO83X3V|          5|          145|        184|   N|                N|78.80434782608695|\n",
            "|R3THZWOBS1086J|          5|           46|         47|   N|                N|97.87234042553192|\n",
            "|R160DHJPJ4B20R|          4|           28|         30|   N|                N|93.33333333333333|\n",
            "|R27UDFNE6MY1LO|          2|           15|         24|   N|                N|             62.5|\n",
            "|R34X92SSRBI0N4|          5|           26|         29|   N|                N|89.65517241379311|\n",
            "| RGTKXJ8P5O7LR|          4|           16|         21|   N|                N|76.19047619047619|\n",
            "|R1TK5Q90GGJSTN|          4|           59|         68|   N|                N|86.76470588235294|\n",
            "|R3E8UZOCG84HNO|          5|           18|         24|   N|                N|             75.0|\n",
            "|R33O2810BC4UR0|          5|          101|        103|   N|                Y|98.05825242718447|\n",
            "|R1M60NYB4UPRJ8|          5|           19|         24|   N|                N|79.16666666666666|\n",
            "|R38RXR8USISV94|          4|         1150|       1228|   N|                N|93.64820846905538|\n",
            "|R2E2KP6K6OUBEX|          5|           59|         60|   N|                N|98.33333333333333|\n",
            "|R3F583X11I1RP6|          1|           40|         43|   N|                N|93.02325581395348|\n",
            "+--------------+-----------+-------------+-----------+----+-----------------+-----------------+\n",
            "only showing top 20 rows\n",
            "\n"
          ]
        }
      ]
    },
    {
      "cell_type": "code",
      "source": [
        "#5 Determine the total number of reviews, the number of 5-star reviews, \n",
        "# and the percentage of 5-star reviews for the two types of review (paid vs unpaid).\n",
        "\n",
        "# Unpaid\n",
        "# https://stackoverflow.com/questions/47812526/pyspark-sum-a-column-in-dataframe-and-return-results-as-int\n",
        "# Percentage of 5 star reviews\n",
        "vine_unpaidstats_df = vine_unpaidreviews_df.select(\"vine\", \"star_rating\")\n",
        "vine_unpaidstats_df.show()\n"
      ],
      "metadata": {
        "colab": {
          "base_uri": "https://localhost:8080/"
        },
        "id": "x1Q8Y_7asxcO",
        "outputId": "baf4d67d-cc8a-421f-8050-5c878e23da09"
      },
      "execution_count": 30,
      "outputs": [
        {
          "output_type": "stream",
          "name": "stdout",
          "text": [
            "+----+-----------+\n",
            "|vine|star_rating|\n",
            "+----+-----------+\n",
            "|   N|          5|\n",
            "|   N|          5|\n",
            "|   N|          5|\n",
            "|   N|          4|\n",
            "|   N|          1|\n",
            "|   N|          4|\n",
            "|   N|          5|\n",
            "|   N|          5|\n",
            "|   N|          5|\n",
            "|   N|          4|\n",
            "|   N|          2|\n",
            "|   N|          5|\n",
            "|   N|          4|\n",
            "|   N|          4|\n",
            "|   N|          5|\n",
            "|   N|          5|\n",
            "|   N|          5|\n",
            "|   N|          4|\n",
            "|   N|          5|\n",
            "|   N|          1|\n",
            "+----+-----------+\n",
            "only showing top 20 rows\n",
            "\n"
          ]
        }
      ]
    },
    {
      "cell_type": "code",
      "source": [
        "# Total number of reviews\n",
        "total_number_reviews = vine_percentfilteradded_df.count()\n",
        "total_number_reviews"
      ],
      "metadata": {
        "colab": {
          "base_uri": "https://localhost:8080/"
        },
        "id": "28hf4s0xWdIG",
        "outputId": "18ee0d81-34d8-49c1-8365-3329ae4433be"
      },
      "execution_count": 50,
      "outputs": [
        {
          "output_type": "execute_result",
          "data": {
            "text/plain": [
              "403807"
            ]
          },
          "metadata": {},
          "execution_count": 50
        }
      ]
    },
    {
      "cell_type": "code",
      "source": [
        "# Calculate number of unpaid reviews\n",
        "number_reviews_unpaid = vine_unpaidstats_df.count()\n",
        "number_reviews_unpaid"
      ],
      "metadata": {
        "colab": {
          "base_uri": "https://localhost:8080/"
        },
        "id": "EPtmPnuhOxiG",
        "outputId": "ddf9ee15-a3ac-4f73-9496-2ddc5f9f40aa"
      },
      "execution_count": 49,
      "outputs": [
        {
          "output_type": "execute_result",
          "data": {
            "text/plain": [
              "403807"
            ]
          },
          "metadata": {},
          "execution_count": 49
        }
      ]
    },
    {
      "cell_type": "code",
      "source": [
        "number_fivestar_reviews_df = vine_unpaidstats_df.filter(\"star_rating==5\")\n",
        "number_fivestar_reviews_df.show()"
      ],
      "metadata": {
        "colab": {
          "base_uri": "https://localhost:8080/"
        },
        "id": "joGBlr-pS6j_",
        "outputId": "6b7dffb8-7983-4252-d413-95d2d644003e"
      },
      "execution_count": 40,
      "outputs": [
        {
          "output_type": "stream",
          "name": "stdout",
          "text": [
            "+----+-----------+\n",
            "|vine|star_rating|\n",
            "+----+-----------+\n",
            "|   N|          5|\n",
            "|   N|          5|\n",
            "|   N|          5|\n",
            "|   N|          5|\n",
            "|   N|          5|\n",
            "|   N|          5|\n",
            "|   N|          5|\n",
            "|   N|          5|\n",
            "|   N|          5|\n",
            "|   N|          5|\n",
            "|   N|          5|\n",
            "|   N|          5|\n",
            "|   N|          5|\n",
            "|   N|          5|\n",
            "|   N|          5|\n",
            "|   N|          5|\n",
            "|   N|          5|\n",
            "|   N|          5|\n",
            "|   N|          5|\n",
            "|   N|          5|\n",
            "+----+-----------+\n",
            "only showing top 20 rows\n",
            "\n"
          ]
        }
      ]
    },
    {
      "cell_type": "code",
      "source": [
        "number_fivestar_reviews_unpaid = number_fivestar_reviews_df.count()\n",
        "number_fivestar_reviews_unpaid"
      ],
      "metadata": {
        "colab": {
          "base_uri": "https://localhost:8080/"
        },
        "id": "38DIwXRoTHSn",
        "outputId": "539734a4-1b67-4f8f-f154-78413a85b7af"
      },
      "execution_count": 51,
      "outputs": [
        {
          "output_type": "execute_result",
          "data": {
            "text/plain": [
              "242889"
            ]
          },
          "metadata": {},
          "execution_count": 51
        }
      ]
    },
    {
      "cell_type": "code",
      "source": [
        "percentage_fivestar_unpaid = (number_fivestar_reviews_unpaid/number_reviews_unpaid) * 100\n",
        "percentage_fivestar_unpaid"
      ],
      "metadata": {
        "colab": {
          "base_uri": "https://localhost:8080/"
        },
        "id": "FmILZM8sT4Eo",
        "outputId": "06cc3898-f3c9-4472-8552-99ca16efa718"
      },
      "execution_count": 46,
      "outputs": [
        {
          "output_type": "execute_result",
          "data": {
            "text/plain": [
              "60.14977452099642"
            ]
          },
          "metadata": {},
          "execution_count": 46
        }
      ]
    },
    {
      "cell_type": "code",
      "source": [
        "# Paid reviews\n",
        "number_reviews_paid = vine_paidreviews_df.count()\n",
        "number_reviews_paid"
      ],
      "metadata": {
        "colab": {
          "base_uri": "https://localhost:8080/"
        },
        "id": "KEjTByzqUgIH",
        "outputId": "8775587f-93f5-4f41-96f6-72b328bf98f6"
      },
      "execution_count": 48,
      "outputs": [
        {
          "output_type": "execute_result",
          "data": {
            "text/plain": [
              "0"
            ]
          },
          "metadata": {},
          "execution_count": 48
        }
      ]
    },
    {
      "cell_type": "code",
      "source": [
        ""
      ],
      "metadata": {
        "id": "JNoveZEdVDoU"
      },
      "execution_count": null,
      "outputs": []
    }
  ]
}